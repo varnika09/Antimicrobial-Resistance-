{
 "cells": [
  {
   "cell_type": "code",
   "execution_count": 1,
   "id": "4abfc847",
   "metadata": {},
   "outputs": [],
   "source": [
    "import numpy as np\n",
    "import pandas as pd\n",
    "import pickle\n",
    "import warnings\n",
    "warnings.filterwarnings('ignore')\n",
    "import matplotlib.pyplot as plt"
   ]
  },
  {
   "cell_type": "code",
   "execution_count": 2,
   "id": "112b5c5c",
   "metadata": {},
   "outputs": [],
   "source": [
    "modified_data = pd.read_csv('modified_dataset_all.csv')"
   ]
  },
  {
   "cell_type": "code",
   "execution_count": 3,
   "id": "71e0a227",
   "metadata": {},
   "outputs": [
    {
     "data": {
      "text/html": [
       "<div>\n",
       "<style scoped>\n",
       "    .dataframe tbody tr th:only-of-type {\n",
       "        vertical-align: middle;\n",
       "    }\n",
       "\n",
       "    .dataframe tbody tr th {\n",
       "        vertical-align: top;\n",
       "    }\n",
       "\n",
       "    .dataframe thead th {\n",
       "        text-align: right;\n",
       "    }\n",
       "</style>\n",
       "<table border=\"1\" class=\"dataframe\">\n",
       "  <thead>\n",
       "    <tr style=\"text-align: right;\">\n",
       "      <th></th>\n",
       "      <th>Sequence</th>\n",
       "      <th>Class</th>\n",
       "    </tr>\n",
       "  </thead>\n",
       "  <tbody>\n",
       "    <tr>\n",
       "      <th>0</th>\n",
       "      <td>MKWTKRVIRYATKNRKSPAENRRRVGKSLSLLSVFVFAIFLVNFAV...</td>\n",
       "      <td>1.0</td>\n",
       "    </tr>\n",
       "    <tr>\n",
       "      <th>1</th>\n",
       "      <td>MRLICMRKFNSHSIPIRLNLLFSIVILLFMTIIGRLLYMQVLNKDF...</td>\n",
       "      <td>1.0</td>\n",
       "    </tr>\n",
       "    <tr>\n",
       "      <th>2</th>\n",
       "      <td>MNKPTILHLIKYLSISFLSLVIAAIVLGGGVFFYYVSKAPSLSESK...</td>\n",
       "      <td>1.0</td>\n",
       "    </tr>\n",
       "    <tr>\n",
       "      <th>3</th>\n",
       "      <td>MSIQHFRVALIPFFAAFCLPVFAHPETLVKVKDAEDQLGARVGYIE...</td>\n",
       "      <td>1.0</td>\n",
       "    </tr>\n",
       "    <tr>\n",
       "      <th>4</th>\n",
       "      <td>MSIQHFRVALIPFFAAFCLPVFAHPETLVKVKDAEDQLGARVGYIE...</td>\n",
       "      <td>1.0</td>\n",
       "    </tr>\n",
       "  </tbody>\n",
       "</table>\n",
       "</div>"
      ],
      "text/plain": [
       "                                            Sequence  Class\n",
       "0  MKWTKRVIRYATKNRKSPAENRRRVGKSLSLLSVFVFAIFLVNFAV...    1.0\n",
       "1  MRLICMRKFNSHSIPIRLNLLFSIVILLFMTIIGRLLYMQVLNKDF...    1.0\n",
       "2  MNKPTILHLIKYLSISFLSLVIAAIVLGGGVFFYYVSKAPSLSESK...    1.0\n",
       "3  MSIQHFRVALIPFFAAFCLPVFAHPETLVKVKDAEDQLGARVGYIE...    1.0\n",
       "4  MSIQHFRVALIPFFAAFCLPVFAHPETLVKVKDAEDQLGARVGYIE...    1.0"
      ]
     },
     "execution_count": 3,
     "metadata": {},
     "output_type": "execute_result"
    }
   ],
   "source": [
    "modified_data.head()"
   ]
  },
  {
   "cell_type": "code",
   "execution_count": 4,
   "id": "b3290c7f",
   "metadata": {},
   "outputs": [
    {
     "data": {
      "image/png": "[encoded data removed]",
      "text/plain": [
       "<Figure size 432x288 with 1 Axes>"
      ]
     },
     "metadata": {
      "needs_background": "light"
     },
     "output_type": "display_data"
    }
   ],
   "source": [
    "modified_data.Class.value_counts().sort_values(ascending=False).plot.bar()\n",
    "plt.show()"
   ]
  },
  {
   "cell_type": "code",
   "execution_count": 5,
   "id": "366260b8",
   "metadata": {},
   "outputs": [],
   "source": [
    "def creation_of_BOW(Sequence, size=6):\n",
    "    return [Sequence[x:x+size] for x in range(len(Sequence) - size + 1)]"
   ]
  },
  {
   "cell_type": "code",
   "execution_count": 6,
   "id": "f7f02124",
   "metadata": {},
   "outputs": [],
   "source": [
    "modified_data['BOW'] = modified_data.apply(lambda x: creation_of_BOW(x['Sequence']), axis=1)\n",
    "modified_data = modified_data.drop('Sequence', axis=1)"
   ]
  },
  {
   "cell_type": "code",
   "execution_count": 7,
   "id": "48ce9112",
   "metadata": {},
   "outputs": [
    {
     "data": {
      "text/html": [
       "<div>\n",
       "<style scoped>\n",
       "    .dataframe tbody tr th:only-of-type {\n",
       "        vertical-align: middle;\n",
       "    }\n",
       "\n",
       "    .dataframe tbody tr th {\n",
       "        vertical-align: top;\n",
       "    }\n",
       "\n",
       "    .dataframe thead th {\n",
       "        text-align: right;\n",
       "    }\n",
       "</style>\n",
       "<table border=\"1\" class=\"dataframe\">\n",
       "  <thead>\n",
       "    <tr style=\"text-align: right;\">\n",
       "      <th></th>\n",
       "      <th>Class</th>\n",
       "      <th>BOW</th>\n",
       "    </tr>\n",
       "  </thead>\n",
       "  <tbody>\n",
       "    <tr>\n",
       "      <th>0</th>\n",
       "      <td>1.0</td>\n",
       "      <td>[MKWTKR, KWTKRV, WTKRVI, TKRVIR, KRVIRY, RVIRY...</td>\n",
       "    </tr>\n",
       "    <tr>\n",
       "      <th>1</th>\n",
       "      <td>1.0</td>\n",
       "      <td>[MRLICM, RLICMR, LICMRK, ICMRKF, CMRKFN, MRKFN...</td>\n",
       "    </tr>\n",
       "    <tr>\n",
       "      <th>2</th>\n",
       "      <td>1.0</td>\n",
       "      <td>[MNKPTI, NKPTIL, KPTILH, PTILHL, TILHLI, ILHLI...</td>\n",
       "    </tr>\n",
       "    <tr>\n",
       "      <th>3</th>\n",
       "      <td>1.0</td>\n",
       "      <td>[MSIQHF, SIQHFR, IQHFRV, QHFRVA, HFRVAL, FRVAL...</td>\n",
       "    </tr>\n",
       "    <tr>\n",
       "      <th>4</th>\n",
       "      <td>1.0</td>\n",
       "      <td>[MSIQHF, SIQHFR, IQHFRV, QHFRVA, HFRVAL, FRVAL...</td>\n",
       "    </tr>\n",
       "  </tbody>\n",
       "</table>\n",
       "</div>"
      ],
      "text/plain": [
       "   Class                                                BOW\n",
       "0    1.0  [MKWTKR, KWTKRV, WTKRVI, TKRVIR, KRVIRY, RVIRY...\n",
       "1    1.0  [MRLICM, RLICMR, LICMRK, ICMRKF, CMRKFN, MRKFN...\n",
       "2    1.0  [MNKPTI, NKPTIL, KPTILH, PTILHL, TILHLI, ILHLI...\n",
       "3    1.0  [MSIQHF, SIQHFR, IQHFRV, QHFRVA, HFRVAL, FRVAL...\n",
       "4    1.0  [MSIQHF, SIQHFR, IQHFRV, QHFRVA, HFRVAL, FRVAL..."
      ]
     },
     "execution_count": 7,
     "metadata": {},
     "output_type": "execute_result"
    }
   ],
   "source": [
    "modified_data.head()"
   ]
  },
  {
   "cell_type": "code",
   "execution_count": 8,
   "id": "5a244238",
   "metadata": {},
   "outputs": [
    {
     "data": {
      "text/plain": [
       "(161, 2)"
      ]
     },
     "execution_count": 8,
     "metadata": {},
     "output_type": "execute_result"
    }
   ],
   "source": [
    "modified_data.shape"
   ]
  },
  {
   "cell_type": "code",
   "execution_count": 9,
   "id": "6b8984a0",
   "metadata": {},
   "outputs": [],
   "source": [
    "modified_genes = list(modified_data['BOW'])\n",
    "\n",
    "for item in range(len(modified_genes)):\n",
    "    modified_genes[item] = ' '.join(modified_genes[item])\n",
    " "
   ]
  },
  {
   "cell_type": "code",
   "execution_count": 10,
   "id": "ff251dfe",
   "metadata": {},
   "outputs": [],
   "source": [
    "bow_genes = pd.Series(modified_genes)"
   ]
  },
  {
   "cell_type": "code",
   "execution_count": 11,
   "id": "4eeaf3b7",
   "metadata": {},
   "outputs": [
    {
     "data": {
      "text/plain": [
       "0      MKWTKR KWTKRV WTKRVI TKRVIR KRVIRY RVIRYA VIRY...\n",
       "1      MRLICM RLICMR LICMRK ICMRKF CMRKFN MRKFNS RKFN...\n",
       "2      MNKPTI NKPTIL KPTILH PTILHL TILHLI ILHLIK LHLI...\n",
       "3      MSIQHF SIQHFR IQHFRV QHFRVA HFRVAL FRVALI RVAL...\n",
       "4      MSIQHF SIQHFR IQHFRV QHFRVA HFRVAL FRVALI RVAL...\n",
       "                             ...                        \n",
       "156    MKNSCA KNSCAS NSCASR SCASRE CASREL ASRELS SREL...\n",
       "157    MSFLIP SFLIPA FLIPAA LIPAAY IPAAYA PAAYAD AAYA...\n",
       "158    MKIKLM KIKLML IKLMLV KLMLVA LMLVAG MLVAGL LVAG...\n",
       "159    MTNLSR TNLSRR NLSRRS LSRRSV SRRSVL RRSVLI RSVL...\n",
       "160    MSWKSY SWKSYR WKSYRV KSYRVL SYRVLV YRVLVV RVLV...\n",
       "Length: 161, dtype: object"
      ]
     },
     "execution_count": 11,
     "metadata": {},
     "output_type": "execute_result"
    }
   ],
   "source": [
    "bow_genes"
   ]
  },
  {
   "cell_type": "code",
   "execution_count": 12,
   "id": "822e0944",
   "metadata": {},
   "outputs": [],
   "source": [
    "new_data = modified_data.assign(Modified_genes = bow_genes)"
   ]
  },
  {
   "cell_type": "code",
   "execution_count": 13,
   "id": "ce8618ee",
   "metadata": {},
   "outputs": [
    {
     "data": {
      "text/html": [
       "<div>\n",
       "<style scoped>\n",
       "    .dataframe tbody tr th:only-of-type {\n",
       "        vertical-align: middle;\n",
       "    }\n",
       "\n",
       "    .dataframe tbody tr th {\n",
       "        vertical-align: top;\n",
       "    }\n",
       "\n",
       "    .dataframe thead th {\n",
       "        text-align: right;\n",
       "    }\n",
       "</style>\n",
       "<table border=\"1\" class=\"dataframe\">\n",
       "  <thead>\n",
       "    <tr style=\"text-align: right;\">\n",
       "      <th></th>\n",
       "      <th>Class</th>\n",
       "      <th>BOW</th>\n",
       "      <th>Modified_genes</th>\n",
       "    </tr>\n",
       "  </thead>\n",
       "  <tbody>\n",
       "    <tr>\n",
       "      <th>0</th>\n",
       "      <td>1.0</td>\n",
       "      <td>[MKWTKR, KWTKRV, WTKRVI, TKRVIR, KRVIRY, RVIRY...</td>\n",
       "      <td>MKWTKR KWTKRV WTKRVI TKRVIR KRVIRY RVIRYA VIRY...</td>\n",
       "    </tr>\n",
       "    <tr>\n",
       "      <th>1</th>\n",
       "      <td>1.0</td>\n",
       "      <td>[MRLICM, RLICMR, LICMRK, ICMRKF, CMRKFN, MRKFN...</td>\n",
       "      <td>MRLICM RLICMR LICMRK ICMRKF CMRKFN MRKFNS RKFN...</td>\n",
       "    </tr>\n",
       "    <tr>\n",
       "      <th>2</th>\n",
       "      <td>1.0</td>\n",
       "      <td>[MNKPTI, NKPTIL, KPTILH, PTILHL, TILHLI, ILHLI...</td>\n",
       "      <td>MNKPTI NKPTIL KPTILH PTILHL TILHLI ILHLIK LHLI...</td>\n",
       "    </tr>\n",
       "    <tr>\n",
       "      <th>3</th>\n",
       "      <td>1.0</td>\n",
       "      <td>[MSIQHF, SIQHFR, IQHFRV, QHFRVA, HFRVAL, FRVAL...</td>\n",
       "      <td>MSIQHF SIQHFR IQHFRV QHFRVA HFRVAL FRVALI RVAL...</td>\n",
       "    </tr>\n",
       "    <tr>\n",
       "      <th>4</th>\n",
       "      <td>1.0</td>\n",
       "      <td>[MSIQHF, SIQHFR, IQHFRV, QHFRVA, HFRVAL, FRVAL...</td>\n",
       "      <td>MSIQHF SIQHFR IQHFRV QHFRVA HFRVAL FRVALI RVAL...</td>\n",
       "    </tr>\n",
       "  </tbody>\n",
       "</table>\n",
       "</div>"
      ],
      "text/plain": [
       "   Class                                                BOW  \\\n",
       "0    1.0  [MKWTKR, KWTKRV, WTKRVI, TKRVIR, KRVIRY, RVIRY...   \n",
       "1    1.0  [MRLICM, RLICMR, LICMRK, ICMRKF, CMRKFN, MRKFN...   \n",
       "2    1.0  [MNKPTI, NKPTIL, KPTILH, PTILHL, TILHLI, ILHLI...   \n",
       "3    1.0  [MSIQHF, SIQHFR, IQHFRV, QHFRVA, HFRVAL, FRVAL...   \n",
       "4    1.0  [MSIQHF, SIQHFR, IQHFRV, QHFRVA, HFRVAL, FRVAL...   \n",
       "\n",
       "                                      Modified_genes  \n",
       "0  MKWTKR KWTKRV WTKRVI TKRVIR KRVIRY RVIRYA VIRY...  \n",
       "1  MRLICM RLICMR LICMRK ICMRKF CMRKFN MRKFNS RKFN...  \n",
       "2  MNKPTI NKPTIL KPTILH PTILHL TILHLI ILHLIK LHLI...  \n",
       "3  MSIQHF SIQHFR IQHFRV QHFRVA HFRVAL FRVALI RVAL...  \n",
       "4  MSIQHF SIQHFR IQHFRV QHFRVA HFRVAL FRVALI RVAL...  "
      ]
     },
     "execution_count": 13,
     "metadata": {},
     "output_type": "execute_result"
    }
   ],
   "source": [
    "new_data.head()"
   ]
  },
  {
   "cell_type": "code",
   "execution_count": 14,
   "id": "b0e4cac2",
   "metadata": {},
   "outputs": [],
   "source": [
    "new_data = new_data.drop('BOW', axis=1)"
   ]
  },
  {
   "cell_type": "code",
   "execution_count": 15,
   "id": "387acd79",
   "metadata": {},
   "outputs": [
    {
     "data": {
      "text/html": [
       "<div>\n",
       "<style scoped>\n",
       "    .dataframe tbody tr th:only-of-type {\n",
       "        vertical-align: middle;\n",
       "    }\n",
       "\n",
       "    .dataframe tbody tr th {\n",
       "        vertical-align: top;\n",
       "    }\n",
       "\n",
       "    .dataframe thead th {\n",
       "        text-align: right;\n",
       "    }\n",
       "</style>\n",
       "<table border=\"1\" class=\"dataframe\">\n",
       "  <thead>\n",
       "    <tr style=\"text-align: right;\">\n",
       "      <th></th>\n",
       "      <th>Class</th>\n",
       "      <th>Modified_genes</th>\n",
       "    </tr>\n",
       "  </thead>\n",
       "  <tbody>\n",
       "    <tr>\n",
       "      <th>0</th>\n",
       "      <td>1.0</td>\n",
       "      <td>MKWTKR KWTKRV WTKRVI TKRVIR KRVIRY RVIRYA VIRY...</td>\n",
       "    </tr>\n",
       "    <tr>\n",
       "      <th>1</th>\n",
       "      <td>1.0</td>\n",
       "      <td>MRLICM RLICMR LICMRK ICMRKF CMRKFN MRKFNS RKFN...</td>\n",
       "    </tr>\n",
       "    <tr>\n",
       "      <th>2</th>\n",
       "      <td>1.0</td>\n",
       "      <td>MNKPTI NKPTIL KPTILH PTILHL TILHLI ILHLIK LHLI...</td>\n",
       "    </tr>\n",
       "    <tr>\n",
       "      <th>3</th>\n",
       "      <td>1.0</td>\n",
       "      <td>MSIQHF SIQHFR IQHFRV QHFRVA HFRVAL FRVALI RVAL...</td>\n",
       "    </tr>\n",
       "    <tr>\n",
       "      <th>4</th>\n",
       "      <td>1.0</td>\n",
       "      <td>MSIQHF SIQHFR IQHFRV QHFRVA HFRVAL FRVALI RVAL...</td>\n",
       "    </tr>\n",
       "  </tbody>\n",
       "</table>\n",
       "</div>"
      ],
      "text/plain": [
       "   Class                                     Modified_genes\n",
       "0    1.0  MKWTKR KWTKRV WTKRVI TKRVIR KRVIRY RVIRYA VIRY...\n",
       "1    1.0  MRLICM RLICMR LICMRK ICMRKF CMRKFN MRKFNS RKFN...\n",
       "2    1.0  MNKPTI NKPTIL KPTILH PTILHL TILHLI ILHLIK LHLI...\n",
       "3    1.0  MSIQHF SIQHFR IQHFRV QHFRVA HFRVAL FRVALI RVAL...\n",
       "4    1.0  MSIQHF SIQHFR IQHFRV QHFRVA HFRVAL FRVALI RVAL..."
      ]
     },
     "execution_count": 15,
     "metadata": {},
     "output_type": "execute_result"
    }
   ],
   "source": [
    "new_data.head()"
   ]
  },
  {
   "cell_type": "code",
   "execution_count": 16,
   "id": "b4bcd7fe",
   "metadata": {},
   "outputs": [],
   "source": [
    "new_data['Class'] = new_data['Class'].astype(int)"
   ]
  },
  {
   "cell_type": "code",
   "execution_count": 17,
   "id": "58b24d5b",
   "metadata": {},
   "outputs": [
    {
     "data": {
      "text/html": [
       "<div>\n",
       "<style scoped>\n",
       "    .dataframe tbody tr th:only-of-type {\n",
       "        vertical-align: middle;\n",
       "    }\n",
       "\n",
       "    .dataframe tbody tr th {\n",
       "        vertical-align: top;\n",
       "    }\n",
       "\n",
       "    .dataframe thead th {\n",
       "        text-align: right;\n",
       "    }\n",
       "</style>\n",
       "<table border=\"1\" class=\"dataframe\">\n",
       "  <thead>\n",
       "    <tr style=\"text-align: right;\">\n",
       "      <th></th>\n",
       "      <th>Class</th>\n",
       "      <th>Modified_genes</th>\n",
       "    </tr>\n",
       "  </thead>\n",
       "  <tbody>\n",
       "    <tr>\n",
       "      <th>0</th>\n",
       "      <td>1</td>\n",
       "      <td>MKWTKR KWTKRV WTKRVI TKRVIR KRVIRY RVIRYA VIRY...</td>\n",
       "    </tr>\n",
       "    <tr>\n",
       "      <th>1</th>\n",
       "      <td>1</td>\n",
       "      <td>MRLICM RLICMR LICMRK ICMRKF CMRKFN MRKFNS RKFN...</td>\n",
       "    </tr>\n",
       "    <tr>\n",
       "      <th>2</th>\n",
       "      <td>1</td>\n",
       "      <td>MNKPTI NKPTIL KPTILH PTILHL TILHLI ILHLIK LHLI...</td>\n",
       "    </tr>\n",
       "    <tr>\n",
       "      <th>3</th>\n",
       "      <td>1</td>\n",
       "      <td>MSIQHF SIQHFR IQHFRV QHFRVA HFRVAL FRVALI RVAL...</td>\n",
       "    </tr>\n",
       "    <tr>\n",
       "      <th>4</th>\n",
       "      <td>1</td>\n",
       "      <td>MSIQHF SIQHFR IQHFRV QHFRVA HFRVAL FRVALI RVAL...</td>\n",
       "    </tr>\n",
       "  </tbody>\n",
       "</table>\n",
       "</div>"
      ],
      "text/plain": [
       "   Class                                     Modified_genes\n",
       "0      1  MKWTKR KWTKRV WTKRVI TKRVIR KRVIRY RVIRYA VIRY...\n",
       "1      1  MRLICM RLICMR LICMRK ICMRKF CMRKFN MRKFNS RKFN...\n",
       "2      1  MNKPTI NKPTIL KPTILH PTILHL TILHLI ILHLIK LHLI...\n",
       "3      1  MSIQHF SIQHFR IQHFRV QHFRVA HFRVAL FRVALI RVAL...\n",
       "4      1  MSIQHF SIQHFR IQHFRV QHFRVA HFRVAL FRVALI RVAL..."
      ]
     },
     "execution_count": 17,
     "metadata": {},
     "output_type": "execute_result"
    }
   ],
   "source": [
    "new_data.head()"
   ]
  },
  {
   "cell_type": "code",
   "execution_count": 18,
   "id": "fbe99739",
   "metadata": {},
   "outputs": [
    {
     "data": {
      "text/plain": [
       "(161, 2)"
      ]
     },
     "execution_count": 18,
     "metadata": {},
     "output_type": "execute_result"
    }
   ],
   "source": [
    "new_data.shape"
   ]
  },
  {
   "cell_type": "code",
   "execution_count": 19,
   "id": "9e7d1482",
   "metadata": {},
   "outputs": [
    {
     "name": "stdout",
     "output_type": "stream",
     "text": [
      "MSIQHF SIQHFR IQHFRV QHFRVA HFRVAL FRVALI RVALIP VALIPF ALIPFF LIPFFA IPFFAA PFFAAF FFAAFC FAAFCL AAFCLP AFCLPV FCLPVF CLPVFA LPVFAH PVFAHP VFAHPE FAHPET AHPETL HPETLV PETLVK ETLVKV TLVKVK LVKVKD VKVKDA KVKDAE VKDAED KDAEDQ DAEDQL AEDQLG EDQLGA DQLGAR QLGARV LGARVG GARVGY ARVGYI RVGYIE VGYIEL GYIELD YIELDL IELDLN ELDLNS LDLNSG DLNSGK LNSGKI NSGKIL SGKILE GKILES KILESF ILESFR LESFRP ESFRPE SFRPEE FRPEER RPEERF PEERFP EERFPM ERFPMM RFPMMS FPMMST PMMSTF MMSTFK MSTFKV STFKVL TFKVLL FKVLLC KVLLCG VLLCGA LLCGAV LCGAVL CGAVLS GAVLSR AVLSRV VLSRVD LSRVDA SRVDAG RVDAGQ VDAGQE DAGQEQ AGQEQL GQEQLG QEQLGR EQLGRR QLGRRI LGRRIH GRRIHY RRIHYS RIHYSQ IHYSQN HYSQND YSQNDL SQNDLV QNDLVE NDLVEY DLVEYS LVEYSP VEYSPV EYSPVT YSPVTE SPVTEK PVTEKH VTEKHL TEKHLT EKHLTD KHLTDG HLTDGM LTDGMT TDGMTV DGMTVR GMTVRE MTVREL TVRELC VRELCS RELCSA ELCSAA LCSAAI CSAAIT SAAITM AAITMS AITMSD ITMSDN TMSDNT MSDNTA SDNTAA DNTAAN NTAANL TAANLL AANLLL ANLLLT NLLLTT LLLTTI LLTTIG LTTIGG TTIGGP TIGGPK IGGPKE GGPKEL GPKELT PKELTA KELTAF ELTAFL LTAFLH TAFLHN AFLHNM FLHNMG LHNMGD HNMGDH NMGDHV MGDHVT GDHVTR DHVTRL HVTRLD VTRLDR TRLDRW RLDRWE LDRWEP DRWEPE RWEPEL WEPELN EPELNE PELNEA ELNEAI LNEAIP NEAIPN EAIPND AIPNDE IPNDER PNDERD NDERDT DERDTT ERDTTM RDTTMP DTTMPA TTMPAA TMPAAM MPAAMA PAAMAT AAMATT AMATTL MATTLR ATTLRK TTLRKL TLRKLL LRKLLT RKLLTG KLLTGE LLTGEL LTGELL TGELLT GELLTL ELLTLA LLTLAS LTLASR TLASRQ LASRQQ ASRQQL SRQQLI RQQLID QQLIDW QLIDWM LIDWME IDWMEA DWMEAD WMEADK MEADKV EADKVA ADKVAG DKVAGP KVAGPL VAGPLL AGPLLR GPLLRS PLLRSA LLRSAL LRSALP RSALPA SALPAG ALPAGW LPAGWF PAGWFI AGWFIA GWFIAD WFIADK FIADKS IADKSG ADKSGA DKSGAG KSGAGE SGAGER GAGERG AGERGS GERGSR ERGSRG RGSRGI GSRGII SRGIIA RGIIAA GIIAAL IIAALG IAALGP AALGPD ALGPDG LGPDGK GPDGKP PDGKPS DGKPSR GKPSRI KPSRIV PSRIVV SRIVVI RIVVIY IVVIYT VVIYTT VIYTTG IYTTGS YTTGSQ TTGSQA TGSQAT GSQATM SQATMD QATMDE ATMDER TMDERN MDERNR DERNRQ ERNRQI RNRQIA NRQIAE RQIAEI QIAEIG IAEIGA AEIGAS EIGASL IGASLI GASLIK ASLIKH SLIKHW\n"
     ]
    }
   ],
   "source": [
    "print(modified_genes[4])"
   ]
  },
  {
   "cell_type": "code",
   "execution_count": 20,
   "id": "41b44353",
   "metadata": {},
   "outputs": [],
   "source": [
    "from sklearn.model_selection import train_test_split\n",
    "\n",
    "X_train, X_test, y_train, y_test = train_test_split(new_data.Modified_genes, new_data.Class, test_size = 0.20, random_state=42)"
   ]
  },
  {
   "cell_type": "code",
   "execution_count": 21,
   "id": "990f5b5a",
   "metadata": {},
   "outputs": [
    {
     "data": {
      "text/plain": [
       "(128,)"
      ]
     },
     "execution_count": 21,
     "metadata": {},
     "output_type": "execute_result"
    }
   ],
   "source": [
    "X_train.shape"
   ]
  },
  {
   "cell_type": "code",
   "execution_count": 22,
   "id": "b51deca8",
   "metadata": {},
   "outputs": [
    {
     "data": {
      "text/plain": [
       "(33,)"
      ]
     },
     "execution_count": 22,
     "metadata": {},
     "output_type": "execute_result"
    }
   ],
   "source": [
    "X_test.shape"
   ]
  },
  {
   "cell_type": "code",
   "execution_count": 23,
   "id": "f124a106",
   "metadata": {},
   "outputs": [
    {
     "data": {
      "text/plain": [
       "(128,)"
      ]
     },
     "execution_count": 23,
     "metadata": {},
     "output_type": "execute_result"
    }
   ],
   "source": [
    "y_train.shape"
   ]
  },
  {
   "cell_type": "code",
   "execution_count": 24,
   "id": "33a9ba10",
   "metadata": {},
   "outputs": [
    {
     "data": {
      "text/plain": [
       "(33,)"
      ]
     },
     "execution_count": 24,
     "metadata": {},
     "output_type": "execute_result"
    }
   ],
   "source": [
    "y_test.shape"
   ]
  },
  {
   "cell_type": "code",
   "execution_count": 25,
   "id": "14ccd379",
   "metadata": {},
   "outputs": [],
   "source": [
    "from sklearn.feature_extraction.text import CountVectorizer\n",
    "cv = CountVectorizer()"
   ]
  },
  {
   "cell_type": "code",
   "execution_count": 26,
   "id": "48c5cf8d",
   "metadata": {},
   "outputs": [],
   "source": [
    "X_train = cv.fit_transform(X_train)"
   ]
  },
  {
   "cell_type": "code",
   "execution_count": 27,
   "id": "2a73aa6e",
   "metadata": {},
   "outputs": [],
   "source": [
    "X_test = cv.transform(X_test)"
   ]
  },
  {
   "cell_type": "code",
   "execution_count": 28,
   "id": "46256f2d",
   "metadata": {},
   "outputs": [
    {
     "data": {
      "text/plain": [
       "SVC(random_state=30)"
      ]
     },
     "execution_count": 28,
     "metadata": {},
     "output_type": "execute_result"
    }
   ],
   "source": [
    "from sklearn.svm import SVC\n",
    "\n",
    "svm_clf= SVC(random_state=30)\n",
    "\n",
    "svm_clf.fit(X_train, y_train)"
   ]
  },
  {
   "cell_type": "code",
   "execution_count": 29,
   "id": "61d36265",
   "metadata": {},
   "outputs": [],
   "source": [
    "y_pred = svm_clf.predict(X_test)"
   ]
  },
  {
   "cell_type": "code",
   "execution_count": 30,
   "id": "cff732d1",
   "metadata": {},
   "outputs": [],
   "source": [
    "\n",
    "from sklearn.calibration import CalibratedClassifierCV\n",
    "proba_clf = CalibratedClassifierCV(svm_clf) \n",
    "proba_clf.fit(X_train, y_train)\n",
    "y_proba = proba_clf.predict_proba(X_test)\n"
   ]
  },
  {
   "cell_type": "code",
   "execution_count": 31,
   "id": "023c9c0c",
   "metadata": {},
   "outputs": [
    {
     "data": {
      "text/plain": [
       "array([[0.15890371, 0.84109629],\n",
       "       [0.15069415, 0.84930585],\n",
       "       [0.13172043, 0.86827957],\n",
       "       [0.06445177, 0.93554823],\n",
       "       [0.13469116, 0.86530884],\n",
       "       [0.06447909, 0.93552091],\n",
       "       [0.06701786, 0.93298214],\n",
       "       [0.06445177, 0.93554823],\n",
       "       [0.06445941, 0.93554059],\n",
       "       [0.13207907, 0.86792093],\n",
       "       [0.1338639 , 0.8661361 ],\n",
       "       [0.13379465, 0.86620535],\n",
       "       [0.06508156, 0.93491844],\n",
       "       [0.06445177, 0.93554823],\n",
       "       [0.06438575, 0.93561425],\n",
       "       [0.06540926, 0.93459074],\n",
       "       [0.13466181, 0.86533819],\n",
       "       [0.11058479, 0.88941521],\n",
       "       [0.14635288, 0.85364712],\n",
       "       [0.11323072, 0.88676928],\n",
       "       [0.11542506, 0.88457494],\n",
       "       [0.12869096, 0.87130904],\n",
       "       [0.13797048, 0.86202952],\n",
       "       [0.1044473 , 0.8955527 ],\n",
       "       [0.06609946, 0.93390054],\n",
       "       [0.12290633, 0.87709367],\n",
       "       [0.13627998, 0.86372002],\n",
       "       [0.06437303, 0.93562697],\n",
       "       [0.13379465, 0.86620535],\n",
       "       [0.13349902, 0.86650098],\n",
       "       [0.12203011, 0.87796989],\n",
       "       [0.11323072, 0.88676928],\n",
       "       [0.10670548, 0.89329452]])"
      ]
     },
     "execution_count": 31,
     "metadata": {},
     "output_type": "execute_result"
    }
   ],
   "source": [
    "y_proba"
   ]
  },
  {
   "cell_type": "code",
   "execution_count": 42,
   "id": "11322c4c",
   "metadata": {},
   "outputs": [
    {
     "name": "stdout",
     "output_type": "stream",
     "text": [
      "Accuracy = 0.939 \n",
      "Precision = 0.939 \n",
      "Recall = 1.000 \n",
      "f1 = 0.969\n"
     ]
    }
   ],
   "source": [
    "from sklearn.metrics import accuracy_score, f1_score, precision_score, recall_score\n",
    "def get_metrics(y_test, y_predicted):\n",
    "    accuracy = accuracy_score(y_test, y_predicted)\n",
    "    precision = precision_score(y_test, y_predicted, average='binary')\n",
    "    recall = recall_score(y_test, y_predicted, average='binary')\n",
    "    f1 = f1_score(y_test, y_predicted, average='binary')\n",
    "    return accuracy, precision, recall, f1\n",
    "accuracy, precision, recall, f1 = get_metrics(y_test, y_pred)\n",
    "print(\"Accuracy = %.3f \\nPrecision = %.3f \\nRecall = %.3f \\nf1 = %.3f\" % (accuracy, precision, recall, f1))"
   ]
  },
  {
   "cell_type": "code",
   "execution_count": 46,
   "id": "78045eb2",
   "metadata": {},
   "outputs": [
    {
     "name": "stdout",
     "output_type": "stream",
     "text": [
      "[[ 0  2]\n",
      " [ 0 31]]\n"
     ]
    }
   ],
   "source": [
    "from sklearn.metrics import confusion_matrix\n",
    "y_pred = svm_clf.predict(X_test)\n",
    "cm = confusion_matrix(y_test, y_pred)\n",
    "print(cm)"
   ]
  },
  {
   "cell_type": "code",
   "execution_count": 33,
   "id": "6249ebef",
   "metadata": {},
   "outputs": [],
   "source": [
    "pickle.dump(svm_clf, open('model1.pkl','wb'))\n",
    "pickle.dump(cv, open('model2.pkl','wb'))"
   ]
  },
  {
   "cell_type": "code",
   "execution_count": 34,
   "id": "5d8aa68f",
   "metadata": {},
   "outputs": [],
   "source": [
    "model = pickle.load(open('model1.pkl','rb'))\n",
    "model = pickle.load(open('model2.pkl','rb'))"
   ]
  },
  {
   "cell_type": "markdown",
   "id": "b85fb08f",
   "metadata": {},
   "source": [
    "Probability Testing"
   ]
  },
  {
   "cell_type": "code",
   "execution_count": 37,
   "id": "34ba2bca",
   "metadata": {},
   "outputs": [],
   "source": [
    "from sklearn.calibration import CalibratedClassifierCV\n",
    "proba_clf = CalibratedClassifierCV(svm_clf) \n",
    "proba_clf.fit(X_train, y_train)\n",
    "y_proba = proba_clf.predict_proba(X_test)"
   ]
  },
  {
   "cell_type": "code",
   "execution_count": 38,
   "id": "6e3d45ae",
   "metadata": {},
   "outputs": [
    {
     "data": {
      "text/plain": [
       "array([[0.15890371, 0.84109629],\n",
       "       [0.15069415, 0.84930585],\n",
       "       [0.13172043, 0.86827957],\n",
       "       [0.06445177, 0.93554823],\n",
       "       [0.13469116, 0.86530884],\n",
       "       [0.06447909, 0.93552091],\n",
       "       [0.06701786, 0.93298214],\n",
       "       [0.06445177, 0.93554823],\n",
       "       [0.06445941, 0.93554059],\n",
       "       [0.13207907, 0.86792093],\n",
       "       [0.1338639 , 0.8661361 ],\n",
       "       [0.13379465, 0.86620535],\n",
       "       [0.06508156, 0.93491844],\n",
       "       [0.06445177, 0.93554823],\n",
       "       [0.06438575, 0.93561425],\n",
       "       [0.06540926, 0.93459074],\n",
       "       [0.13466181, 0.86533819],\n",
       "       [0.11058479, 0.88941521],\n",
       "       [0.14635288, 0.85364712],\n",
       "       [0.11323072, 0.88676928],\n",
       "       [0.11542506, 0.88457494],\n",
       "       [0.12869096, 0.87130904],\n",
       "       [0.13797048, 0.86202952],\n",
       "       [0.1044473 , 0.8955527 ],\n",
       "       [0.06609946, 0.93390054],\n",
       "       [0.12290633, 0.87709367],\n",
       "       [0.13627998, 0.86372002],\n",
       "       [0.06437303, 0.93562697],\n",
       "       [0.13379465, 0.86620535],\n",
       "       [0.13349902, 0.86650098],\n",
       "       [0.12203011, 0.87796989],\n",
       "       [0.11323072, 0.88676928],\n",
       "       [0.10670548, 0.89329452]])"
      ]
     },
     "execution_count": 38,
     "metadata": {},
     "output_type": "execute_result"
    }
   ],
   "source": [
    "y_proba"
   ]
  },
  {
   "cell_type": "code",
   "execution_count": 39,
   "id": "ce5066d9",
   "metadata": {},
   "outputs": [],
   "source": [
    "pickle.dump(proba_clf, open('modelprob.pkl','wb'))"
   ]
  },
  {
   "cell_type": "code",
   "execution_count": 40,
   "id": "1a635e36",
   "metadata": {},
   "outputs": [],
   "source": [
    "model = pickle.load(open('modelprob.pkl','rb'))"
   ]
  },
  {
   "cell_type": "code",
   "execution_count": null,
   "id": "e7cd5a37",
   "metadata": {},
   "outputs": [],
   "source": []
  }
 ],
 "metadata": {
  "kernelspec": {
   "display_name": "Python 3 (ipykernel)",
   "language": "python",
   "name": "python3"
  },
  "language_info": {
   "codemirror_mode": {
    "name": "ipython",
    "version": 3
   },
   "file_extension": ".py",
   "mimetype": "text/x-python",
   "name": "python",
   "nbconvert_exporter": "python",
   "pygments_lexer": "ipython3",
   "version": "3.7.10"
  },
  "vscode": {
   "interpreter": {
    "hash": "40d3a090f54c6569ab1632332b64b2c03c39dcf918b08424e98f38b5ae0af88f"
   }
  }
 },
 "nbformat": 4,
 "nbformat_minor": 5
}
